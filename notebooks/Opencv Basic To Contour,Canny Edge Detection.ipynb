{
 "cells": [
  {
   "cell_type": "code",
   "execution_count": 1,
   "id": "15d29b47",
   "metadata": {},
   "outputs": [],
   "source": [
    "import cv2 as cv"
   ]
  },
  {
   "cell_type": "markdown",
   "id": "9ea9ead6",
   "metadata": {},
   "source": [
    "## 1. Reading Images Using Open CV"
   ]
  },
  {
   "cell_type": "code",
   "execution_count": null,
   "id": "56c57e98",
   "metadata": {},
   "outputs": [],
   "source": [
    "img=cv.imread('Images/ss.png')\n",
    "cv.imshow('Image',img)\n",
    "cv.waitKey(0)"
   ]
  },
  {
   "cell_type": "markdown",
   "id": "60db5414",
   "metadata": {},
   "source": [
    "## 2. Reading Video"
   ]
  },
  {
   "cell_type": "code",
   "execution_count": null,
   "id": "2b2a19df",
   "metadata": {},
   "outputs": [],
   "source": [
    "# capture=cv.VideoCapture('0,1,2') This is for reading video using webcam"
   ]
  },
  {
   "cell_type": "code",
   "execution_count": null,
   "id": "7cdec578",
   "metadata": {},
   "outputs": [],
   "source": [
    "\n",
    "\n",
    "vid = cv.VideoCapture('Videos/monkey_video.mp4')\n",
    "\n",
    "while True:\n",
    "    isTrue, frame = vid.read()\n",
    "    cv.imshow('Video', frame)\n",
    "    if cv.waitKey(20) & 0xFF == ord('s'):\n",
    "        break\n",
    "\n",
    "vid.release()\n",
    "cv.destroyAllWindows()\n",
    "\n"
   ]
  },
  {
   "cell_type": "markdown",
   "id": "0171cb15",
   "metadata": {},
   "source": [
    "## 3. Resizing image and video size"
   ]
  },
  {
   "cell_type": "code",
   "execution_count": null,
   "id": "ba48607d",
   "metadata": {},
   "outputs": [],
   "source": [
    " def rescaleFrame(frame,scale=0.2):# This can be used in images/video and live videos\n",
    "        width=int(frame.shape[1]*scale)\n",
    "        height=int(frame.shape[0]*scale)\n",
    "        dimensions=(width,height)\n",
    "        return cv.resize(frame,dimensions,interpolation=cv.INTER_AREA)"
   ]
  },
  {
   "cell_type": "code",
   "execution_count": null,
   "id": "ae4053b1",
   "metadata": {},
   "outputs": [],
   "source": [
    "def changeRes(height,width):# this is only use for live video\n",
    "    vid.set(4,height)\n",
    "    vid.set(3,width)"
   ]
  },
  {
   "cell_type": "markdown",
   "id": "4c8c6f64",
   "metadata": {},
   "source": [
    "#### Resizing Video"
   ]
  },
  {
   "cell_type": "code",
   "execution_count": null,
   "id": "7c5cf16a",
   "metadata": {},
   "outputs": [],
   "source": [
    "vid = cv.VideoCapture('Videos/monkey_video.mp4')\n",
    "\n",
    "while True:\n",
    "    isTrue, frame = vid.read()\n",
    "    frame_resized=rescaleFrame(frame)\n",
    "    cv.imshow('Video', frame)\n",
    "    cv.imshow('Resized Video',frame_resized)\n",
    "    if cv.waitKey(20) & 0xFF == ord('s'):\n",
    "        break\n",
    "\n",
    "vid.release()\n",
    "cv.destroyAllWindows() "
   ]
  },
  {
   "cell_type": "markdown",
   "id": "abd996fb",
   "metadata": {},
   "source": [
    "#### Resizing Image"
   ]
  },
  {
   "cell_type": "code",
   "execution_count": null,
   "id": "7946d38d",
   "metadata": {},
   "outputs": [],
   "source": [
    "img=cv.imread('Images/ss.png')\n",
    "cv.imshow('Image',img)\n",
    "resized_img=rescaleFrame(img)\n",
    "cv.imshow('Resized Image',resized_img)\n",
    "cv.waitKey(0)"
   ]
  },
  {
   "cell_type": "markdown",
   "id": "ae0d45c9",
   "metadata": {},
   "source": [
    "## 4. Drawing Shape and Putting Text"
   ]
  },
  {
   "cell_type": "code",
   "execution_count": null,
   "id": "87e6a86c",
   "metadata": {},
   "outputs": [],
   "source": [
    "import numpy as np\n"
   ]
  },
  {
   "cell_type": "code",
   "execution_count": null,
   "id": "e89371ad",
   "metadata": {},
   "outputs": [],
   "source": [
    "blank_image=np.zeros((550,550,3),dtype='uint8')\n",
    "cv.imshow('Blank_Image',blank_image)\n",
    "cv.waitKey(0)"
   ]
  },
  {
   "cell_type": "markdown",
   "id": "635ee746",
   "metadata": {},
   "source": [
    "#### Color Fill"
   ]
  },
  {
   "cell_type": "code",
   "execution_count": null,
   "id": "af28430b",
   "metadata": {},
   "outputs": [],
   "source": [
    "blank_image=np.zeros((550,550,3),dtype='uint8')\n",
    "# cv.imshow('Blank_Image',blank_image)\n",
    "blank_image[:]=(241,235,156)\n",
    "blank_image[300:400,400:500]=0,0,0             # This is used for filling the color in certain part of picture\n",
    "cv.imshow('Color',blank_image)\n",
    "cv.waitKey(0)"
   ]
  },
  {
   "cell_type": "markdown",
   "id": "fb2e1a31",
   "metadata": {},
   "source": [
    "#### Drawing Rectangle"
   ]
  },
  {
   "cell_type": "code",
   "execution_count": null,
   "id": "28f78ccb",
   "metadata": {},
   "outputs": [],
   "source": [
    "blank=np.zeros((550,550,3),dtype='uint8')\n",
    "cv.rectangle(blank, (100,100),(250,250),(255,255,255),thickness=cv.FILLED)\n",
    "cv.imshow('Rectangle',blank)\n",
    "cv.waitKey(0)"
   ]
  },
  {
   "cell_type": "markdown",
   "id": "b6bb158b",
   "metadata": {},
   "source": [
    "#### Drawing Circle"
   ]
  },
  {
   "cell_type": "code",
   "execution_count": null,
   "id": "83f8fe83",
   "metadata": {},
   "outputs": [],
   "source": [
    "blank_for_circle=np.zeros((550,550,3),dtype='uint8')\n",
    "cv.circle(blank_for_circle,(250,250),40,(255,255,255),thickness=10) #To fill inside the circle you can use thickness=cv.FILLED\n",
    "cv.imshow(\"Circle\",blank_for_circle)\n",
    "cv.waitKey(0)"
   ]
  },
  {
   "cell_type": "markdown",
   "id": "7947a495",
   "metadata": {},
   "source": [
    "#### Drawing Line"
   ]
  },
  {
   "cell_type": "code",
   "execution_count": null,
   "id": "f0fee2d6",
   "metadata": {},
   "outputs": [],
   "source": [
    "blank_for_line=np.zeros((550,550,3),dtype='uint8')\n",
    "cv.line(blank_for_line,(100,100),(250,250),(255,255,255),thickness=5)\n",
    "cv.imshow('Line',blank_for_line)\n",
    "cv.waitKey(0)"
   ]
  },
  {
   "cell_type": "markdown",
   "id": "a05d8c5f",
   "metadata": {},
   "source": [
    "#### Text"
   ]
  },
  {
   "cell_type": "code",
   "execution_count": null,
   "id": "c2aaa0a7",
   "metadata": {},
   "outputs": [],
   "source": [
    "blank_for_text=np.zeros((550,550,3),dtype='uint8')\n",
    "cv.putText(blank_for_text,'My Name Is Ishwor',(100,100),cv.FONT_HERSHEY_COMPLEX,1.0,(255,255,255),thickness=2 )\n",
    "cv.imshow('Text',blank_for_text)\n",
    "cv.waitKey(0)"
   ]
  },
  {
   "cell_type": "markdown",
   "id": "e19fbe31",
   "metadata": {},
   "source": [
    "## 5. Functions in OpenCV"
   ]
  },
  {
   "cell_type": "code",
   "execution_count": null,
   "id": "fc2666a6",
   "metadata": {},
   "outputs": [],
   "source": [
    "import cv2 as cv\n",
    "img=cv.imread('Images/ss.png')\n",
    "grey_scale=cv.cvtColor(img,cv.COLOR_BGR2GRAY) #RGB to grey\n",
    "cv.imshow('Normal Image',img)\n",
    "cv.imshow('Grey Scale',grey_scale)\n",
    "cv.waitKey(0)"
   ]
  },
  {
   "cell_type": "markdown",
   "id": "88684b21",
   "metadata": {},
   "source": [
    "#### Blur"
   ]
  },
  {
   "cell_type": "code",
   "execution_count": null,
   "id": "7ab931e2",
   "metadata": {},
   "outputs": [],
   "source": [
    "# To reduce noise we will use blur here we are going to use gaussian Blur\n",
    "\n",
    "blur=cv.GaussianBlur(img,(3,3),cv.BORDER_DEFAULT) #To increase blur you can edit (3,3)\n",
    "cv.imshow('Blur Image',blur)\n",
    "cv.waitKey(0)"
   ]
  },
  {
   "cell_type": "markdown",
   "id": "5ab1cde6",
   "metadata": {},
   "source": [
    "#### Edge Cascade or canny Edge  detection"
   ]
  },
  {
   "cell_type": "code",
   "execution_count": null,
   "id": "c0be934b",
   "metadata": {},
   "outputs": [],
   "source": [
    "# canny=cv.Canny(img,125,175)\n",
    "canny_with_little_edge=cv.Canny(blur,125,175)  #To detect less edge we can use blur. \n",
    "cv.imshow('Canny Edge Detection',canny_with_little_edge)\n",
    "cv.waitKey(0)"
   ]
  },
  {
   "cell_type": "markdown",
   "id": "f0762ce7",
   "metadata": {},
   "source": [
    "#### Resized"
   ]
  },
  {
   "cell_type": "code",
   "execution_count": null,
   "id": "f89fbc0a",
   "metadata": {},
   "outputs": [],
   "source": [
    "resized=cv.resize(img,(500,500))\n",
    "cv.imshow('Resized Image',resized)\n",
    "cv.waitKey(0)"
   ]
  },
  {
   "cell_type": "markdown",
   "id": "c11aba49",
   "metadata": {},
   "source": [
    "#### Cropping"
   ]
  },
  {
   "cell_type": "code",
   "execution_count": null,
   "id": "f6a71308",
   "metadata": {},
   "outputs": [],
   "source": [
    "cropped=img[0:500 ,0:500]#Row[start:stop]: column[start:stop]\n",
    "cv.imshow('Cropped Image',cropped)\n",
    "cv.waitKey(0)"
   ]
  },
  {
   "cell_type": "markdown",
   "id": "40a6310b",
   "metadata": {},
   "source": [
    "## 6. Image Transfermation"
   ]
  },
  {
   "cell_type": "code",
   "execution_count": null,
   "id": "29efe2a8",
   "metadata": {},
   "outputs": [],
   "source": [
    "import numpy as np\n",
    "def translate(img,x,y):\n",
    "    transMat=np.float32([[1,0,x],[0,1,y]])\n",
    "    dimensions=(img.shape[1],img.shape[0])\n",
    "    return cv.warpAffine(img,transMat,dimensions)\n",
    "    \n",
    "# -x=left\n",
    "# -y=up\n",
    "# x=right\n",
    "# y=left\n",
    "\n",
    "translated=translate(img,-200,-100)\n",
    "cv.imshow('Translated Image',translated)\n",
    "cv.waitKey(0)\n"
   ]
  },
  {
   "cell_type": "markdown",
   "id": "e375672e",
   "metadata": {},
   "source": [
    "#### Rotation"
   ]
  },
  {
   "cell_type": "code",
   "execution_count": null,
   "id": "fcf2f59b",
   "metadata": {},
   "outputs": [],
   "source": [
    "\n",
    "def rotate(image,angle,rotPoint=None):\n",
    "    height,width=img.shape[:2]#start,stop\n",
    "#     print(img.shape)\n",
    "#     print(height,width)\n",
    "    if rotPoint is None:\n",
    "        rotPoint=(width//2,height//2)\n",
    "#         print(rotPoint)\n",
    "    rotMat=cv.getRotationMatrix2D(rotPoint,angle,1.0)#height width mid,angle, scale\n",
    "#     print(f'rotmat{rotMat}')\n",
    "    dimensions=width,height\n",
    "#     print(f'Dimension{dimensions}')\n",
    "    return cv.warpAffine(img,rotMat,dimensions)\n",
    "\n",
    "rotated=rotate(img,90)\n",
    "\n",
    "cv.imshow('Rotated Image',rotated)\n",
    "cv.waitKey(0)"
   ]
  },
  {
   "cell_type": "markdown",
   "id": "94bf0f2f",
   "metadata": {},
   "source": [
    "#### Flip"
   ]
  },
  {
   "cell_type": "code",
   "execution_count": null,
   "id": "6bf30193",
   "metadata": {},
   "outputs": [],
   "source": [
    "flip=cv.flip(img,1)\n",
    "cv.imshow('Flip1',flip)\n",
    "cv.waitKey(0)"
   ]
  },
  {
   "cell_type": "code",
   "execution_count": null,
   "id": "082c6524",
   "metadata": {},
   "outputs": [],
   "source": [
    "cropping=img[100:400,0:600]\n",
    "cv.imshow('Cropped',cropping)\n",
    "cv.waitKey(0)"
   ]
  },
  {
   "cell_type": "markdown",
   "id": "add69d57",
   "metadata": {},
   "source": [
    "## 7. Contour Detection\n",
    "\n",
    "\n",
    "- Contours are the distinct lines or curves that define an object's boundaries. These lines connect the continuous points along the object's edge, resulting in a distinct outline or shape.\n",
    "    \n",
    "    \n",
    ">- An edge is a sharp or distinct line where two different surfaces or colors meet, creating a clear boundary. For example, the edge of a table or the edge of a square\n",
    ">- A contour refers to the overall shape or outline of an object."
   ]
  },
  {
   "cell_type": "markdown",
   "id": "7126aa3f",
   "metadata": {},
   "source": [
    "###### We will convert rgb image to gray because\n"
   ]
  },
  {
   "cell_type": "markdown",
   "id": "af0c7f94",
   "metadata": {},
   "source": [
    "> Grayscale images have only one color channel, which means they only contain shades of gray instead of different colors. This makes the image simpler and easier to process for contour detection algorithms.\n",
    "\n",
    ">Converting an image to grayscale reduces the amount of data that needs to be processed, which can speed up the contour detection process and make it more accurate.\n",
    "\n",
    "> Grayscale images eliminate color variations, such as shadows or highlights, which can interfere with contour detection. This means that the contours in the image become more visible and easier to detect, especially in images with complex backgrounds."
   ]
  },
  {
   "cell_type": "code",
   "execution_count": null,
   "id": "4a891b10",
   "metadata": {},
   "outputs": [],
   "source": [
    "img2=cv.imread('Images/rectangle.png')\n",
    "cv.imshow('Image 2',img2)\n",
    "\n",
    "cv.waitKey(0)"
   ]
  },
  {
   "cell_type": "code",
   "execution_count": null,
   "id": "efc7416e",
   "metadata": {},
   "outputs": [],
   "source": [
    "gray=cv.cvtColor(img2,cv.COLOR_BGR2GRAY)\n",
    "cv.imshow(\"Gray Image\",gray)\n",
    "cv.waitKey(0) "
   ]
  },
  {
   "cell_type": "markdown",
   "id": "45d06702",
   "metadata": {},
   "source": [
    "##### Canny edge detection"
   ]
  },
  {
   "cell_type": "code",
   "execution_count": null,
   "id": "56fdc7d8",
   "metadata": {},
   "outputs": [],
   "source": [
    "canny=cv.Canny(img2,125,175)\n",
    "cv.imshow('Canny',canny)\n",
    "cv.waitKey(0) "
   ]
  },
  {
   "cell_type": "markdown",
   "id": "3096e38f",
   "metadata": {},
   "source": [
    "###### Threshold\n",
    "- It is used to binarize the image"
   ]
  },
  {
   "cell_type": "code",
   "execution_count": null,
   "id": "d7f013ee",
   "metadata": {},
   "outputs": [],
   "source": [
    "ret,thres=cv.threshold(gray,125,255,cv.THRESH_BINARY)\n",
    "cv.imshow('Thres',thres)\n",
    "print(len(thres))\n",
    "cv.waitKey(0) \n"
   ]
  },
  {
   "cell_type": "code",
   "execution_count": null,
   "id": "2df25484",
   "metadata": {},
   "outputs": [],
   "source": [
    "import numpy as np\n",
    "\n",
    "blank=np.zeros(img.shape[:2],dtype='uint8')\n",
    "cv.imshow('Blank',blank)\n",
    "contours,hierarchies=cv.findContours(canny,cv.RETR_LIST,cv.CHAIN_APPROX_SIMPLE)#If you need hierarchical contours you  can use cv.RETER_LIST,cv.CHAIN_APPROX_NONE\n",
    "\n",
    "# cv.RETR_TREE return all the hierarchical contours like if you have one rectangle and inside that rectange you have circle so it will return rectangle and circle in hierarchical contours\n",
    "# cv.RETR_EXTERNAL for external contours only or cv.RETR_LIST for all contour\n",
    "# Chain approx_none will give all the estimated contours if you will use chain_approx_simple which essentialy compresses all the quantities that are returned in simple ones that make most sense\n",
    "cv.drawContours(blank,contours,-1,(255,255,255),2)\n",
    "cv.imshow('Contours',blank)\n",
    "\n",
    "cv.waitKey(0) "
   ]
  },
  {
   "cell_type": "code",
   "execution_count": null,
   "id": "9c6ef810",
   "metadata": {},
   "outputs": [],
   "source": []
  }
 ],
 "metadata": {
  "kernelspec": {
   "display_name": "Python 3 (ipykernel)",
   "language": "python",
   "name": "python3"
  },
  "language_info": {
   "codemirror_mode": {
    "name": "ipython",
    "version": 3
   },
   "file_extension": ".py",
   "mimetype": "text/x-python",
   "name": "python",
   "nbconvert_exporter": "python",
   "pygments_lexer": "ipython3",
   "version": "3.9.13"
  }
 },
 "nbformat": 4,
 "nbformat_minor": 5
}
